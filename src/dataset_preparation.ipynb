{
 "cells": [
  {
   "cell_type": "code",
   "execution_count": 1,
   "metadata": {},
   "outputs": [],
   "source": [
    "import os\n",
    "import pandas as pd\n",
    "from scipy.io import loadmat\n",
    "from random import randrange\n",
    "import random\n",
    "import numpy as np\n",
    "from matplotlib import pyplot as plt\n",
    "import cv2\n",
    "import imageio\n",
    "import imgaug.augmenters as iaa\n",
    "import glob\n",
    "from pathlib import Path\n",
    "from tqdm.notebook import tqdm\n",
    "\n",
    "from sklearn.model_selection import train_test_split\n",
    "from sklearn.preprocessing import LabelEncoder\n",
    "\n",
    "import tensorflow as tf\n",
    "from tensorflow.keras.applications import EfficientNetB7\n",
    "from tensorflow.keras.layers import *\n",
    "from tensorflow.keras.models import Model\n",
    "from tensorflow.keras.optimizers import SGD\n",
    "from tensorflow.keras.preprocessing.image import ImageDataGenerator, load_img, img_to_array\n",
    "from tensorflow.keras.callbacks import ModelCheckpoint\n",
    "from tensorflow.keras.utils import to_categorical\n",
    "\n",
    "%matplotlib inline"
   ]
  },
  {
   "cell_type": "code",
   "execution_count": 2,
   "metadata": {},
   "outputs": [],
   "source": [
    "def getListOfFiles(dirName):\n",
    "    # create a list of file and sub directories \n",
    "    # names in the given directory \n",
    "    listOfFile = os.listdir(dirName)\n",
    "    allFiles = list()\n",
    "    # Iterate over all the entries\n",
    "    for entry in listOfFile:\n",
    "        fullPath = os.path.join(dirName, entry)\n",
    "        \n",
    "        if os.path.isdir(fullPath):\n",
    "            allFiles = allFiles + getListOfFiles(fullPath)\n",
    "        else:\n",
    "            if '.jpg' in fullPath:\n",
    "                allFiles.append(fullPath)\n",
    "                \n",
    "    return allFiles\n",
    "\n",
    "def custom_image_generator(lists, batch_size, mode=\"train\", aug=None):\n",
    "    while True:\n",
    "        images = []\n",
    "        make_ids = []\n",
    "        model_ids = []\n",
    "        \n",
    "        while len(images) < batch_size:\n",
    "            random_idx = randrange(len(lists[0]))\n",
    "            img = load_img(lists[0][random_idx], target_size=(IMAGE_SIZE, IMAGE_SIZE))\n",
    "            img = img_to_array(img)\n",
    "            # TODO: Center crop instead of resize\n",
    "            images.append(img)\n",
    "            make_ids.append(lists[1][random_idx])\n",
    "            model_ids.append(lists[2][random_idx])\n",
    "        \n",
    "        labels = [np.array(make_ids),np.array(model_ids)]\n",
    "        \n",
    "        if aug:\n",
    "            (images, labels) = next(aug.flow(np.array(images), labels, batch_size=batch_size))\n",
    "        \n",
    "        yield np.array(images),  labels \n",
    "\n",
    "def build_model(losses, metrics):\n",
    "    base_model = EfficientNetB7(include_top=False, weights='imagenet')\n",
    "    \n",
    "    for layer in base_model.layers:\n",
    "        layer.trainable = False\n",
    "    \n",
    "    model_input = Input(shape=(IMAGE_SIZE,IMAGE_SIZE,3))\n",
    "    x = base_model(model_input)\n",
    "    x = GlobalAveragePooling2D()(x)\n",
    "    \n",
    "    x = Dense(256, activation='relu')(x)\n",
    "    x = Dropout(0.25)(x)\n",
    "    x = Dense(256, activation='relu')(x)\n",
    "    x = Dropout(0.25)(x)\n",
    "    \n",
    "    y1 = Dense(128, activation='relu')(x)\n",
    "    y1 = Dropout(0.25)(y1)\n",
    "    y1 = Dense(64, activation='relu')(y1)\n",
    "    y1 = Dropout(0.25)(y1)\n",
    "    \n",
    "    y2 = Dense(128, activation='relu')(x)\n",
    "    y2 = Dropout(0.25)(y2)\n",
    "    y2 = Dense(64, activation='relu')(y2)\n",
    "    y2 = Dropout(0.25)(y2)\n",
    "    \n",
    "    y1 = Dense(163, activation='softmax', name='make_id')(y1)\n",
    "    y2 = Dense(1716, activation='softmax', name='model_id')(y2)\n",
    "    \n",
    "    model = Model(inputs=model_input, outputs=[y1, y2])\n",
    "    \n",
    "    model.compile(loss=losses, optimizer=SGD(lr=0.01, momentum=0.9), metrics=metrics)\n",
    "    \n",
    "    return model"
   ]
  },
  {
   "cell_type": "code",
   "execution_count": 3,
   "metadata": {},
   "outputs": [],
   "source": [
    "def plotImages(file_paths):\n",
    "    r = random.sample(file_paths, 12)\n",
    "    plt.figure(figsize=(10,10))\n",
    "    plt.subplot(341)\n",
    "    plt.imshow(cv2.imread(r[0])); plt.axis('off')\n",
    "    plt.subplot(342)\n",
    "    plt.imshow(cv2.imread(r[1])); plt.axis('off')\n",
    "    plt.subplot(343)\n",
    "    plt.imshow(cv2.imread(r[2])); plt.axis('off')\n",
    "    plt.subplot(344)\n",
    "    plt.imshow(cv2.imread(r[3])); plt.axis('off')\n",
    "    plt.subplot(345)\n",
    "    plt.imshow(cv2.imread(r[4])); plt.axis('off')\n",
    "    plt.subplot(346)\n",
    "    plt.imshow(cv2.imread(r[5])); plt.axis('off')\n",
    "    plt.subplot(347)\n",
    "    plt.imshow(cv2.imread(r[6])); plt.axis('off')\n",
    "    plt.subplot(348)\n",
    "    plt.imshow(cv2.imread(r[7])); plt.axis('off')\n",
    "    plt.subplot(349)\n",
    "    plt.imshow(cv2.imread(r[8])); plt.axis('off')\n",
    "    plt.subplot(3,4,10)\n",
    "    plt.imshow(cv2.imread(r[9])); plt.axis('off')\n",
    "    plt.subplot(342)\n",
    "    plt.imshow(cv2.imread(r[10])); plt.axis('off')\n",
    "    plt.subplot(343)\n",
    "    plt.imshow(cv2.imread(r[11])); plt.axis('off')"
   ]
  },
  {
   "cell_type": "code",
   "execution_count": 4,
   "metadata": {
    "scrolled": false
   },
   "outputs": [],
   "source": [
    "file_paths = getListOfFiles('data/image')\n",
    "df = pd.DataFrame(file_paths, columns=['filename'])\n",
    "df['make_id'] = df.filename.apply(lambda x: x.split('/')[2])\n",
    "df['model_id'] = df.filename.apply(lambda x: x.split('/')[3])\n",
    "df.to_csv('df.csv', index=False)"
   ]
  },
  {
   "cell_type": "code",
   "execution_count": 5,
   "metadata": {},
   "outputs": [
    {
     "data": {
      "text/plain": [
       "163"
      ]
     },
     "execution_count": 5,
     "metadata": {},
     "output_type": "execute_result"
    }
   ],
   "source": [
    "df.make_id.nunique()"
   ]
  },
  {
   "cell_type": "code",
   "execution_count": 6,
   "metadata": {},
   "outputs": [
    {
     "data": {
      "text/plain": [
       "1716"
      ]
     },
     "execution_count": 6,
     "metadata": {},
     "output_type": "execute_result"
    }
   ],
   "source": [
    "df.model_id.nunique()"
   ]
  },
  {
   "cell_type": "code",
   "execution_count": 7,
   "metadata": {},
   "outputs": [
    {
     "data": {
      "text/html": [
       "<div>\n",
       "<style scoped>\n",
       "    .dataframe tbody tr th:only-of-type {\n",
       "        vertical-align: middle;\n",
       "    }\n",
       "\n",
       "    .dataframe tbody tr th {\n",
       "        vertical-align: top;\n",
       "    }\n",
       "\n",
       "    .dataframe thead th {\n",
       "        text-align: right;\n",
       "    }\n",
       "</style>\n",
       "<table border=\"1\" class=\"dataframe\">\n",
       "  <thead>\n",
       "    <tr style=\"text-align: right;\">\n",
       "      <th></th>\n",
       "      <th>filename</th>\n",
       "      <th>make_id</th>\n",
       "      <th>model_id</th>\n",
       "    </tr>\n",
       "  </thead>\n",
       "  <tbody>\n",
       "    <tr>\n",
       "      <th>2965</th>\n",
       "      <td>data/image/59/358/2009/d163010a9407bd.jpg</td>\n",
       "      <td>59</td>\n",
       "      <td>358</td>\n",
       "    </tr>\n",
       "    <tr>\n",
       "      <th>2966</th>\n",
       "      <td>data/image/59/358/2009/f3e8b21e67f030.jpg</td>\n",
       "      <td>59</td>\n",
       "      <td>358</td>\n",
       "    </tr>\n",
       "    <tr>\n",
       "      <th>2967</th>\n",
       "      <td>data/image/59/358/2009/e4035be5bee1f4.jpg</td>\n",
       "      <td>59</td>\n",
       "      <td>358</td>\n",
       "    </tr>\n",
       "    <tr>\n",
       "      <th>2968</th>\n",
       "      <td>data/image/59/358/2009/7a60b138b980af.jpg</td>\n",
       "      <td>59</td>\n",
       "      <td>358</td>\n",
       "    </tr>\n",
       "    <tr>\n",
       "      <th>3891</th>\n",
       "      <td>data/image/66/1995/2012/0c54d61c25a44a.jpg</td>\n",
       "      <td>66</td>\n",
       "      <td>1995</td>\n",
       "    </tr>\n",
       "    <tr>\n",
       "      <th>...</th>\n",
       "      <td>...</td>\n",
       "      <td>...</td>\n",
       "      <td>...</td>\n",
       "    </tr>\n",
       "    <tr>\n",
       "      <th>135569</th>\n",
       "      <td>data/image/149/1804/2012/d8accda4213fd6.jpg</td>\n",
       "      <td>149</td>\n",
       "      <td>1804</td>\n",
       "    </tr>\n",
       "    <tr>\n",
       "      <th>135570</th>\n",
       "      <td>data/image/149/1804/2012/97ee687e784b99.jpg</td>\n",
       "      <td>149</td>\n",
       "      <td>1804</td>\n",
       "    </tr>\n",
       "    <tr>\n",
       "      <th>135571</th>\n",
       "      <td>data/image/149/1804/2012/f3b2f33ed7693e.jpg</td>\n",
       "      <td>149</td>\n",
       "      <td>1804</td>\n",
       "    </tr>\n",
       "    <tr>\n",
       "      <th>135572</th>\n",
       "      <td>data/image/149/1804/2012/d0effb5ce242c3.jpg</td>\n",
       "      <td>149</td>\n",
       "      <td>1804</td>\n",
       "    </tr>\n",
       "    <tr>\n",
       "      <th>135573</th>\n",
       "      <td>data/image/149/1804/2012/bd43a027bb355d.jpg</td>\n",
       "      <td>149</td>\n",
       "      <td>1804</td>\n",
       "    </tr>\n",
       "  </tbody>\n",
       "</table>\n",
       "<p>131 rows × 3 columns</p>\n",
       "</div>"
      ],
      "text/plain": [
       "                                           filename make_id model_id\n",
       "2965      data/image/59/358/2009/d163010a9407bd.jpg      59      358\n",
       "2966      data/image/59/358/2009/f3e8b21e67f030.jpg      59      358\n",
       "2967      data/image/59/358/2009/e4035be5bee1f4.jpg      59      358\n",
       "2968      data/image/59/358/2009/7a60b138b980af.jpg      59      358\n",
       "3891     data/image/66/1995/2012/0c54d61c25a44a.jpg      66     1995\n",
       "...                                             ...     ...      ...\n",
       "135569  data/image/149/1804/2012/d8accda4213fd6.jpg     149     1804\n",
       "135570  data/image/149/1804/2012/97ee687e784b99.jpg     149     1804\n",
       "135571  data/image/149/1804/2012/f3b2f33ed7693e.jpg     149     1804\n",
       "135572  data/image/149/1804/2012/d0effb5ce242c3.jpg     149     1804\n",
       "135573  data/image/149/1804/2012/bd43a027bb355d.jpg     149     1804\n",
       "\n",
       "[131 rows x 3 columns]"
      ]
     },
     "execution_count": 7,
     "metadata": {},
     "output_type": "execute_result"
    }
   ],
   "source": [
    "drop_table = pd.DataFrame()\n",
    "drop_rows = df[['make_id', 'model_id']].value_counts()[df[['make_id', 'model_id']].value_counts() < 6].keys().tolist()\n",
    "drop_table = drop_table.append(df[pd.Series(list(zip(df['make_id'], df['model_id']))).isin(drop_rows)])\n",
    "drop_table = drop_table.drop_duplicates(keep=False)\n",
    "drop_table"
   ]
  },
  {
   "cell_type": "code",
   "execution_count": 8,
   "metadata": {},
   "outputs": [
    {
     "data": {
      "text/html": [
       "<div>\n",
       "<style scoped>\n",
       "    .dataframe tbody tr th:only-of-type {\n",
       "        vertical-align: middle;\n",
       "    }\n",
       "\n",
       "    .dataframe tbody tr th {\n",
       "        vertical-align: top;\n",
       "    }\n",
       "\n",
       "    .dataframe thead th {\n",
       "        text-align: right;\n",
       "    }\n",
       "</style>\n",
       "<table border=\"1\" class=\"dataframe\">\n",
       "  <thead>\n",
       "    <tr style=\"text-align: right;\">\n",
       "      <th></th>\n",
       "      <th>filename</th>\n",
       "      <th>make_id</th>\n",
       "      <th>model_id</th>\n",
       "    </tr>\n",
       "  </thead>\n",
       "  <tbody>\n",
       "    <tr>\n",
       "      <th>0</th>\n",
       "      <td>data/image/135/947/2009/deab76f22e8937.jpg</td>\n",
       "      <td>135</td>\n",
       "      <td>947</td>\n",
       "    </tr>\n",
       "    <tr>\n",
       "      <th>1</th>\n",
       "      <td>data/image/135/947/2009/b00fef3e12bdf0.jpg</td>\n",
       "      <td>135</td>\n",
       "      <td>947</td>\n",
       "    </tr>\n",
       "    <tr>\n",
       "      <th>2</th>\n",
       "      <td>data/image/135/947/2009/69ada64edf3ebb.jpg</td>\n",
       "      <td>135</td>\n",
       "      <td>947</td>\n",
       "    </tr>\n",
       "    <tr>\n",
       "      <th>3</th>\n",
       "      <td>data/image/135/947/2009/60b5fa727f82f2.jpg</td>\n",
       "      <td>135</td>\n",
       "      <td>947</td>\n",
       "    </tr>\n",
       "    <tr>\n",
       "      <th>4</th>\n",
       "      <td>data/image/135/947/2009/83ce148be0dcb5.jpg</td>\n",
       "      <td>135</td>\n",
       "      <td>947</td>\n",
       "    </tr>\n",
       "    <tr>\n",
       "      <th>...</th>\n",
       "      <td>...</td>\n",
       "      <td>...</td>\n",
       "      <td>...</td>\n",
       "    </tr>\n",
       "    <tr>\n",
       "      <th>136721</th>\n",
       "      <td>data/image/25/1757/2010/e43225a8f5170e.jpg</td>\n",
       "      <td>25</td>\n",
       "      <td>1757</td>\n",
       "    </tr>\n",
       "    <tr>\n",
       "      <th>136722</th>\n",
       "      <td>data/image/25/1757/2010/3283c7054ab6af.jpg</td>\n",
       "      <td>25</td>\n",
       "      <td>1757</td>\n",
       "    </tr>\n",
       "    <tr>\n",
       "      <th>136723</th>\n",
       "      <td>data/image/25/1757/2010/c03431b205c981.jpg</td>\n",
       "      <td>25</td>\n",
       "      <td>1757</td>\n",
       "    </tr>\n",
       "    <tr>\n",
       "      <th>136724</th>\n",
       "      <td>data/image/25/1757/2010/c0f30e5d156b4d.jpg</td>\n",
       "      <td>25</td>\n",
       "      <td>1757</td>\n",
       "    </tr>\n",
       "    <tr>\n",
       "      <th>136725</th>\n",
       "      <td>data/image/25/1757/2010/e078c55dead4a4.jpg</td>\n",
       "      <td>25</td>\n",
       "      <td>1757</td>\n",
       "    </tr>\n",
       "  </tbody>\n",
       "</table>\n",
       "<p>136595 rows × 3 columns</p>\n",
       "</div>"
      ],
      "text/plain": [
       "                                          filename make_id model_id\n",
       "0       data/image/135/947/2009/deab76f22e8937.jpg     135      947\n",
       "1       data/image/135/947/2009/b00fef3e12bdf0.jpg     135      947\n",
       "2       data/image/135/947/2009/69ada64edf3ebb.jpg     135      947\n",
       "3       data/image/135/947/2009/60b5fa727f82f2.jpg     135      947\n",
       "4       data/image/135/947/2009/83ce148be0dcb5.jpg     135      947\n",
       "...                                            ...     ...      ...\n",
       "136721  data/image/25/1757/2010/e43225a8f5170e.jpg      25     1757\n",
       "136722  data/image/25/1757/2010/3283c7054ab6af.jpg      25     1757\n",
       "136723  data/image/25/1757/2010/c03431b205c981.jpg      25     1757\n",
       "136724  data/image/25/1757/2010/c0f30e5d156b4d.jpg      25     1757\n",
       "136725  data/image/25/1757/2010/e078c55dead4a4.jpg      25     1757\n",
       "\n",
       "[136595 rows x 3 columns]"
      ]
     },
     "execution_count": 8,
     "metadata": {},
     "output_type": "execute_result"
    }
   ],
   "source": [
    "temp_df = df[~df.filename.isin(drop_table.filename)]\n",
    "temp_df"
   ]
  },
  {
   "cell_type": "code",
   "execution_count": 9,
   "metadata": {},
   "outputs": [
    {
     "data": {
      "text/plain": [
       "make_id  model_id\n",
       "54       196         303\n",
       "157      1915        288\n",
       "81       68          283\n",
       "77       127         272\n",
       "157      1917        237\n",
       "                    ... \n",
       "27       1082          6\n",
       "131      1011          6\n",
       "138      1411          6\n",
       "118      994           6\n",
       "149      1808          6\n",
       "Length: 1677, dtype: int64"
      ]
     },
     "execution_count": 9,
     "metadata": {},
     "output_type": "execute_result"
    }
   ],
   "source": [
    "temp_df[['make_id', 'model_id']].value_counts()"
   ]
  },
  {
   "cell_type": "code",
   "execution_count": 10,
   "metadata": {},
   "outputs": [],
   "source": [
    "train, test = train_test_split(temp_df, test_size=0.10, shuffle=True, random_state=42, stratify=temp_df[['make_id', 'model_id']])\n",
    "test = test.append(drop_table)"
   ]
  },
  {
   "cell_type": "code",
   "execution_count": 11,
   "metadata": {},
   "outputs": [],
   "source": [
    "train, val = train_test_split(train, test_size=0.25, shuffle=True, random_state=42, stratify=train[['make_id', 'model_id']])"
   ]
  },
  {
   "cell_type": "code",
   "execution_count": 15,
   "metadata": {},
   "outputs": [
    {
     "data": {
      "text/plain": [
       "162"
      ]
     },
     "execution_count": 15,
     "metadata": {},
     "output_type": "execute_result"
    }
   ],
   "source": [
    "train.make_id.nunique()"
   ]
  },
  {
   "cell_type": "code",
   "execution_count": 16,
   "metadata": {},
   "outputs": [
    {
     "data": {
      "text/plain": [
       "1677"
      ]
     },
     "execution_count": 16,
     "metadata": {},
     "output_type": "execute_result"
    }
   ],
   "source": [
    "val.model_id.nunique()"
   ]
  },
  {
   "cell_type": "code",
   "execution_count": 341,
   "metadata": {},
   "outputs": [],
   "source": [
    "train.to_csv('train.csv', index=False)\n",
    "val.to_csv('val.csv', index=False)\n",
    "test.to_csv('test.csv', index=False)"
   ]
  }
 ],
 "metadata": {
  "kernelspec": {
   "display_name": "Python 3",
   "language": "python",
   "name": "python3"
  },
  "language_info": {
   "codemirror_mode": {
    "name": "ipython",
    "version": 3
   },
   "file_extension": ".py",
   "mimetype": "text/x-python",
   "name": "python",
   "nbconvert_exporter": "python",
   "pygments_lexer": "ipython3",
   "version": "3.8.5"
  }
 },
 "nbformat": 4,
 "nbformat_minor": 4
}
